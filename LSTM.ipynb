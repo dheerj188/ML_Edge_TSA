{
 "cells": [
  {
   "cell_type": "code",
   "execution_count": 1,
   "id": "469eac7e-2c92-4a96-900c-3a05300ea35f",
   "metadata": {
    "tags": []
   },
   "outputs": [
    {
     "name": "stderr",
     "output_type": "stream",
     "text": [
      "2023-04-25 08:53:39.428714: I tensorflow/tsl/cuda/cudart_stub.cc:28] Could not find cuda drivers on your machine, GPU will not be used.\n",
      "2023-04-25 08:53:39.561473: I tensorflow/tsl/cuda/cudart_stub.cc:28] Could not find cuda drivers on your machine, GPU will not be used.\n",
      "2023-04-25 08:53:39.562287: I tensorflow/core/platform/cpu_feature_guard.cc:182] This TensorFlow binary is optimized to use available CPU instructions in performance-critical operations.\n",
      "To enable the following instructions: AVX2 FMA, in other operations, rebuild TensorFlow with the appropriate compiler flags.\n",
      "2023-04-25 08:53:40.414367: W tensorflow/compiler/tf2tensorrt/utils/py_utils.cc:38] TF-TRT Warning: Could not find TensorRT\n"
     ]
    }
   ],
   "source": [
    "import pandas as pd\n",
    "import numpy as np\n",
    "import tensorflow as tf\n",
    "from tensorflow.keras.models import Sequential\n",
    "from tensorflow.keras.layers import LSTM, Dense, Dropout\n",
    "from sklearn.preprocessing import MinMaxScaler\n",
    "from sklearn.metrics import mean_squared_error"
   ]
  },
  {
   "cell_type": "code",
   "execution_count": 2,
   "id": "5562a89f-70ca-49ec-8de4-20f5f749ee6b",
   "metadata": {
    "tags": []
   },
   "outputs": [],
   "source": [
    "df = pd.read_csv('Metro_Interstate_Traffic_Volume.csv')\n",
    "df = df[pd.Series(map(lambda x:\"2012\" in x,df[\"date_time\"]))]"
   ]
  },
  {
   "cell_type": "code",
   "execution_count": 3,
   "id": "3d175e3d-14b1-49dd-8a21-fd2488df9200",
   "metadata": {
    "tags": []
   },
   "outputs": [
    {
     "data": {
      "text/html": [
       "<div>\n",
       "<style scoped>\n",
       "    .dataframe tbody tr th:only-of-type {\n",
       "        vertical-align: middle;\n",
       "    }\n",
       "\n",
       "    .dataframe tbody tr th {\n",
       "        vertical-align: top;\n",
       "    }\n",
       "\n",
       "    .dataframe thead th {\n",
       "        text-align: right;\n",
       "    }\n",
       "</style>\n",
       "<table border=\"1\" class=\"dataframe\">\n",
       "  <thead>\n",
       "    <tr style=\"text-align: right;\">\n",
       "      <th></th>\n",
       "      <th>holiday</th>\n",
       "      <th>temp</th>\n",
       "      <th>rain_1h</th>\n",
       "      <th>snow_1h</th>\n",
       "      <th>clouds_all</th>\n",
       "      <th>weather_main</th>\n",
       "      <th>weather_description</th>\n",
       "      <th>date_time</th>\n",
       "      <th>traffic_volume</th>\n",
       "    </tr>\n",
       "  </thead>\n",
       "  <tbody>\n",
       "    <tr>\n",
       "      <th>0</th>\n",
       "      <td>NaN</td>\n",
       "      <td>288.28</td>\n",
       "      <td>0.0</td>\n",
       "      <td>0.0</td>\n",
       "      <td>40</td>\n",
       "      <td>Clouds</td>\n",
       "      <td>scattered clouds</td>\n",
       "      <td>2012-10-02 09:00:00</td>\n",
       "      <td>5545</td>\n",
       "    </tr>\n",
       "    <tr>\n",
       "      <th>1</th>\n",
       "      <td>NaN</td>\n",
       "      <td>289.36</td>\n",
       "      <td>0.0</td>\n",
       "      <td>0.0</td>\n",
       "      <td>75</td>\n",
       "      <td>Clouds</td>\n",
       "      <td>broken clouds</td>\n",
       "      <td>2012-10-02 10:00:00</td>\n",
       "      <td>4516</td>\n",
       "    </tr>\n",
       "    <tr>\n",
       "      <th>2</th>\n",
       "      <td>NaN</td>\n",
       "      <td>289.58</td>\n",
       "      <td>0.0</td>\n",
       "      <td>0.0</td>\n",
       "      <td>90</td>\n",
       "      <td>Clouds</td>\n",
       "      <td>overcast clouds</td>\n",
       "      <td>2012-10-02 11:00:00</td>\n",
       "      <td>4767</td>\n",
       "    </tr>\n",
       "    <tr>\n",
       "      <th>3</th>\n",
       "      <td>NaN</td>\n",
       "      <td>290.13</td>\n",
       "      <td>0.0</td>\n",
       "      <td>0.0</td>\n",
       "      <td>90</td>\n",
       "      <td>Clouds</td>\n",
       "      <td>overcast clouds</td>\n",
       "      <td>2012-10-02 12:00:00</td>\n",
       "      <td>5026</td>\n",
       "    </tr>\n",
       "    <tr>\n",
       "      <th>4</th>\n",
       "      <td>NaN</td>\n",
       "      <td>291.14</td>\n",
       "      <td>0.0</td>\n",
       "      <td>0.0</td>\n",
       "      <td>75</td>\n",
       "      <td>Clouds</td>\n",
       "      <td>broken clouds</td>\n",
       "      <td>2012-10-02 13:00:00</td>\n",
       "      <td>4918</td>\n",
       "    </tr>\n",
       "    <tr>\n",
       "      <th>...</th>\n",
       "      <td>...</td>\n",
       "      <td>...</td>\n",
       "      <td>...</td>\n",
       "      <td>...</td>\n",
       "      <td>...</td>\n",
       "      <td>...</td>\n",
       "      <td>...</td>\n",
       "      <td>...</td>\n",
       "      <td>...</td>\n",
       "    </tr>\n",
       "    <tr>\n",
       "      <th>2554</th>\n",
       "      <td>NaN</td>\n",
       "      <td>265.69</td>\n",
       "      <td>0.0</td>\n",
       "      <td>0.0</td>\n",
       "      <td>75</td>\n",
       "      <td>Clouds</td>\n",
       "      <td>broken clouds</td>\n",
       "      <td>2012-12-31 19:00:00</td>\n",
       "      <td>3294</td>\n",
       "    </tr>\n",
       "    <tr>\n",
       "      <th>2555</th>\n",
       "      <td>NaN</td>\n",
       "      <td>266.18</td>\n",
       "      <td>0.0</td>\n",
       "      <td>0.0</td>\n",
       "      <td>40</td>\n",
       "      <td>Clouds</td>\n",
       "      <td>scattered clouds</td>\n",
       "      <td>2012-12-31 20:00:00</td>\n",
       "      <td>2888</td>\n",
       "    </tr>\n",
       "    <tr>\n",
       "      <th>2556</th>\n",
       "      <td>NaN</td>\n",
       "      <td>265.20</td>\n",
       "      <td>0.0</td>\n",
       "      <td>0.0</td>\n",
       "      <td>40</td>\n",
       "      <td>Clouds</td>\n",
       "      <td>scattered clouds</td>\n",
       "      <td>2012-12-31 21:00:00</td>\n",
       "      <td>2588</td>\n",
       "    </tr>\n",
       "    <tr>\n",
       "      <th>2557</th>\n",
       "      <td>NaN</td>\n",
       "      <td>264.58</td>\n",
       "      <td>0.0</td>\n",
       "      <td>0.0</td>\n",
       "      <td>40</td>\n",
       "      <td>Mist</td>\n",
       "      <td>mist</td>\n",
       "      <td>2012-12-31 22:00:00</td>\n",
       "      <td>2293</td>\n",
       "    </tr>\n",
       "    <tr>\n",
       "      <th>2558</th>\n",
       "      <td>NaN</td>\n",
       "      <td>264.72</td>\n",
       "      <td>0.0</td>\n",
       "      <td>0.0</td>\n",
       "      <td>20</td>\n",
       "      <td>Clouds</td>\n",
       "      <td>few clouds</td>\n",
       "      <td>2012-12-31 23:00:00</td>\n",
       "      <td>1596</td>\n",
       "    </tr>\n",
       "  </tbody>\n",
       "</table>\n",
       "<p>2559 rows × 9 columns</p>\n",
       "</div>"
      ],
      "text/plain": [
       "     holiday    temp  rain_1h  snow_1h  clouds_all weather_main   \n",
       "0        NaN  288.28      0.0      0.0          40       Clouds  \\\n",
       "1        NaN  289.36      0.0      0.0          75       Clouds   \n",
       "2        NaN  289.58      0.0      0.0          90       Clouds   \n",
       "3        NaN  290.13      0.0      0.0          90       Clouds   \n",
       "4        NaN  291.14      0.0      0.0          75       Clouds   \n",
       "...      ...     ...      ...      ...         ...          ...   \n",
       "2554     NaN  265.69      0.0      0.0          75       Clouds   \n",
       "2555     NaN  266.18      0.0      0.0          40       Clouds   \n",
       "2556     NaN  265.20      0.0      0.0          40       Clouds   \n",
       "2557     NaN  264.58      0.0      0.0          40         Mist   \n",
       "2558     NaN  264.72      0.0      0.0          20       Clouds   \n",
       "\n",
       "     weather_description            date_time  traffic_volume  \n",
       "0       scattered clouds  2012-10-02 09:00:00            5545  \n",
       "1          broken clouds  2012-10-02 10:00:00            4516  \n",
       "2        overcast clouds  2012-10-02 11:00:00            4767  \n",
       "3        overcast clouds  2012-10-02 12:00:00            5026  \n",
       "4          broken clouds  2012-10-02 13:00:00            4918  \n",
       "...                  ...                  ...             ...  \n",
       "2554       broken clouds  2012-12-31 19:00:00            3294  \n",
       "2555    scattered clouds  2012-12-31 20:00:00            2888  \n",
       "2556    scattered clouds  2012-12-31 21:00:00            2588  \n",
       "2557                mist  2012-12-31 22:00:00            2293  \n",
       "2558          few clouds  2012-12-31 23:00:00            1596  \n",
       "\n",
       "[2559 rows x 9 columns]"
      ]
     },
     "execution_count": 3,
     "metadata": {},
     "output_type": "execute_result"
    }
   ],
   "source": [
    "df"
   ]
  },
  {
   "cell_type": "code",
   "execution_count": 4,
   "id": "08bdb125-f683-40e1-b7aa-678f1f2c36c2",
   "metadata": {
    "tags": []
   },
   "outputs": [],
   "source": [
    "scaler = MinMaxScaler()\n",
    "df[['temp', 'rain_1h', 'snow_1h', 'clouds_all', 'traffic_volume']] = scaler.fit_transform(df[['temp', 'rain_1h', 'snow_1h', 'clouds_all', 'traffic_volume']])"
   ]
  },
  {
   "cell_type": "code",
   "execution_count": 5,
   "id": "eb2e70ee-5a4e-4756-a04e-3836bf600fc1",
   "metadata": {
    "tags": []
   },
   "outputs": [],
   "source": [
    "lags = range(1, 25)\n",
    "for lag in lags:\n",
    "    df[f't-{lag}'] = df['traffic_volume'].shift(lag)\n"
   ]
  },
  {
   "cell_type": "code",
   "execution_count": 6,
   "id": "a6b2f970-1603-4904-873a-167e3b07abe0",
   "metadata": {
    "tags": []
   },
   "outputs": [],
   "source": [
    "df.drop(\"holiday\",axis=1,inplace=True)\n",
    "df.drop(\"weather_main\",axis=1,inplace = True)\n",
    "df.drop(\"weather_description\",axis=1,inplace= True)"
   ]
  },
  {
   "cell_type": "code",
   "execution_count": 7,
   "id": "7a21669f-2c08-4423-b1bd-dc6256ba41a7",
   "metadata": {
    "tags": []
   },
   "outputs": [],
   "source": [
    "df = df.dropna()"
   ]
  },
  {
   "cell_type": "code",
   "execution_count": 8,
   "id": "6fe7ed73-954d-46c4-b473-40a6c1ff74a0",
   "metadata": {},
   "outputs": [],
   "source": [
    "train_data, test_data = df.iloc[:-1000], df.iloc[-1000:]\n"
   ]
  },
  {
   "cell_type": "code",
   "execution_count": 9,
   "id": "d73338a1-b3ce-44eb-b2a7-4b260512f3c7",
   "metadata": {
    "tags": []
   },
   "outputs": [],
   "source": [
    "# select features and target variable\n",
    "X_train =train_data.drop(['date_time', 'traffic_volume'], axis=1).values\n",
    "y_train =train_data['traffic_volume'].values\n",
    "X_test = test_data.drop(['date_time', 'traffic_volume'], axis=1).values\n",
    "y_test = test_data['traffic_volume'].values"
   ]
  },
  {
   "cell_type": "code",
   "execution_count": 10,
   "id": "11d3c488-644b-494e-bc8f-b52480aaa83c",
   "metadata": {
    "tags": []
   },
   "outputs": [
    {
     "data": {
      "text/plain": [
       "(1535, 28)"
      ]
     },
     "execution_count": 10,
     "metadata": {},
     "output_type": "execute_result"
    }
   ],
   "source": [
    "X_train.shape"
   ]
  },
  {
   "cell_type": "code",
   "execution_count": 11,
   "id": "6d2581cc-bcf7-4d37-a415-51fb7a0d5121",
   "metadata": {
    "tags": []
   },
   "outputs": [],
   "source": [
    "# reshape the input data to a 3D array for LSTM network\n",
    "X_train = np.reshape(X_train, (X_train.shape[0], 1, X_train.shape[1]))\n",
    "X_test = np.reshape(X_test, (X_test.shape[0], 1, X_test.shape[1]))"
   ]
  },
  {
   "cell_type": "code",
   "execution_count": 12,
   "id": "577349af-984d-476b-949f-c1e1ba9c601a",
   "metadata": {
    "tags": []
   },
   "outputs": [
    {
     "data": {
      "text/plain": [
       "(1535, 1, 28)"
      ]
     },
     "execution_count": 12,
     "metadata": {},
     "output_type": "execute_result"
    }
   ],
   "source": [
    "X_train.shape"
   ]
  },
  {
   "cell_type": "code",
   "execution_count": 13,
   "id": "31009b91-3eba-4ef7-834f-339f04ffb9fe",
   "metadata": {
    "tags": []
   },
   "outputs": [
    {
     "name": "stderr",
     "output_type": "stream",
     "text": [
      "2023-04-25 08:53:42.281391: I tensorflow/core/common_runtime/executor.cc:1197] [/device:CPU:0] (DEBUG INFO) Executor start aborting (this does not indicate an error and you can ignore this message): INVALID_ARGUMENT: You must feed a value for placeholder tensor 'gradients/split_2_grad/concat/split_2/split_dim' with dtype int32\n",
      "\t [[{{node gradients/split_2_grad/concat/split_2/split_dim}}]]\n",
      "2023-04-25 08:53:42.283028: I tensorflow/core/common_runtime/executor.cc:1197] [/device:CPU:0] (DEBUG INFO) Executor start aborting (this does not indicate an error and you can ignore this message): INVALID_ARGUMENT: You must feed a value for placeholder tensor 'gradients/split_grad/concat/split/split_dim' with dtype int32\n",
      "\t [[{{node gradients/split_grad/concat/split/split_dim}}]]\n",
      "2023-04-25 08:53:42.284155: I tensorflow/core/common_runtime/executor.cc:1197] [/device:CPU:0] (DEBUG INFO) Executor start aborting (this does not indicate an error and you can ignore this message): INVALID_ARGUMENT: You must feed a value for placeholder tensor 'gradients/split_1_grad/concat/split_1/split_dim' with dtype int32\n",
      "\t [[{{node gradients/split_1_grad/concat/split_1/split_dim}}]]\n"
     ]
    }
   ],
   "source": [
    "# Create and compile LSTM model\n",
    "model = tf.keras.models.Sequential([\n",
    "    tf.keras.layers.LSTM(units=64, input_shape=(X_train.shape[1], X_train.shape[2])),\n",
    "    tf.keras.layers.Dense(units=1)\n",
    "])\n",
    "\n",
    "model.compile(loss='mean_squared_error', optimizer=tf.keras.optimizers.Adam())\n"
   ]
  },
  {
   "cell_type": "code",
   "execution_count": 14,
   "id": "58adf05a-ab8d-420f-984c-b3231692b92f",
   "metadata": {
    "tags": []
   },
   "outputs": [],
   "source": [
    "# Convert input data to TensorFlow tensor objects\n",
    "X_train_tf = tf.convert_to_tensor(X_train)\n",
    "y_train_tf = tf.convert_to_tensor(y_train)\n"
   ]
  },
  {
   "cell_type": "code",
   "execution_count": 15,
   "id": "6454dfc3-de80-4585-9424-bf5534a5f3c8",
   "metadata": {
    "tags": []
   },
   "outputs": [
    {
     "name": "stdout",
     "output_type": "stream",
     "text": [
      "Epoch 1/50\n"
     ]
    },
    {
     "name": "stderr",
     "output_type": "stream",
     "text": [
      "2023-04-25 08:53:42.638927: I tensorflow/core/common_runtime/executor.cc:1197] [/device:CPU:0] (DEBUG INFO) Executor start aborting (this does not indicate an error and you can ignore this message): INVALID_ARGUMENT: You must feed a value for placeholder tensor 'gradients/split_2_grad/concat/split_2/split_dim' with dtype int32\n",
      "\t [[{{node gradients/split_2_grad/concat/split_2/split_dim}}]]\n",
      "2023-04-25 08:53:42.640125: I tensorflow/core/common_runtime/executor.cc:1197] [/device:CPU:0] (DEBUG INFO) Executor start aborting (this does not indicate an error and you can ignore this message): INVALID_ARGUMENT: You must feed a value for placeholder tensor 'gradients/split_grad/concat/split/split_dim' with dtype int32\n",
      "\t [[{{node gradients/split_grad/concat/split/split_dim}}]]\n",
      "2023-04-25 08:53:42.641059: I tensorflow/core/common_runtime/executor.cc:1197] [/device:CPU:0] (DEBUG INFO) Executor start aborting (this does not indicate an error and you can ignore this message): INVALID_ARGUMENT: You must feed a value for placeholder tensor 'gradients/split_1_grad/concat/split_1/split_dim' with dtype int32\n",
      "\t [[{{node gradients/split_1_grad/concat/split_1/split_dim}}]]\n",
      "2023-04-25 08:53:43.107778: I tensorflow/core/common_runtime/executor.cc:1197] [/device:CPU:0] (DEBUG INFO) Executor start aborting (this does not indicate an error and you can ignore this message): INVALID_ARGUMENT: You must feed a value for placeholder tensor 'gradients/split_2_grad/concat/split_2/split_dim' with dtype int32\n",
      "\t [[{{node gradients/split_2_grad/concat/split_2/split_dim}}]]\n",
      "2023-04-25 08:53:43.108977: I tensorflow/core/common_runtime/executor.cc:1197] [/device:CPU:0] (DEBUG INFO) Executor start aborting (this does not indicate an error and you can ignore this message): INVALID_ARGUMENT: You must feed a value for placeholder tensor 'gradients/split_grad/concat/split/split_dim' with dtype int32\n",
      "\t [[{{node gradients/split_grad/concat/split/split_dim}}]]\n",
      "2023-04-25 08:53:43.109932: I tensorflow/core/common_runtime/executor.cc:1197] [/device:CPU:0] (DEBUG INFO) Executor start aborting (this does not indicate an error and you can ignore this message): INVALID_ARGUMENT: You must feed a value for placeholder tensor 'gradients/split_1_grad/concat/split_1/split_dim' with dtype int32\n",
      "\t [[{{node gradients/split_1_grad/concat/split_1/split_dim}}]]\n"
     ]
    },
    {
     "name": "stdout",
     "output_type": "stream",
     "text": [
      "20/20 [==============================] - 2s 29ms/step - loss: 0.1645 - val_loss: 0.0642\n",
      "Epoch 2/50\n",
      "20/20 [==============================] - 0s 3ms/step - loss: 0.0701 - val_loss: 0.0469\n",
      "Epoch 3/50\n",
      " 1/20 [>.............................] - ETA: 0s - loss: 0.0514"
     ]
    },
    {
     "name": "stderr",
     "output_type": "stream",
     "text": [
      "2023-04-25 08:53:44.248760: I tensorflow/core/common_runtime/executor.cc:1197] [/device:CPU:0] (DEBUG INFO) Executor start aborting (this does not indicate an error and you can ignore this message): INVALID_ARGUMENT: You must feed a value for placeholder tensor 'gradients/split_2_grad/concat/split_2/split_dim' with dtype int32\n",
      "\t [[{{node gradients/split_2_grad/concat/split_2/split_dim}}]]\n",
      "2023-04-25 08:53:44.249908: I tensorflow/core/common_runtime/executor.cc:1197] [/device:CPU:0] (DEBUG INFO) Executor start aborting (this does not indicate an error and you can ignore this message): INVALID_ARGUMENT: You must feed a value for placeholder tensor 'gradients/split_grad/concat/split/split_dim' with dtype int32\n",
      "\t [[{{node gradients/split_grad/concat/split/split_dim}}]]\n",
      "2023-04-25 08:53:44.250831: I tensorflow/core/common_runtime/executor.cc:1197] [/device:CPU:0] (DEBUG INFO) Executor start aborting (this does not indicate an error and you can ignore this message): INVALID_ARGUMENT: You must feed a value for placeholder tensor 'gradients/split_1_grad/concat/split_1/split_dim' with dtype int32\n",
      "\t [[{{node gradients/split_1_grad/concat/split_1/split_dim}}]]\n"
     ]
    },
    {
     "name": "stdout",
     "output_type": "stream",
     "text": [
      "20/20 [==============================] - 0s 4ms/step - loss: 0.0489 - val_loss: 0.0352\n",
      "Epoch 4/50\n",
      "20/20 [==============================] - 0s 4ms/step - loss: 0.0388 - val_loss: 0.0290\n",
      "Epoch 5/50\n",
      "20/20 [==============================] - 0s 4ms/step - loss: 0.0335 - val_loss: 0.0261\n",
      "Epoch 6/50\n",
      "20/20 [==============================] - 0s 5ms/step - loss: 0.0304 - val_loss: 0.0241\n",
      "Epoch 7/50\n",
      "20/20 [==============================] - 0s 5ms/step - loss: 0.0278 - val_loss: 0.0221\n",
      "Epoch 8/50\n",
      "20/20 [==============================] - 0s 4ms/step - loss: 0.0252 - val_loss: 0.0202\n",
      "Epoch 9/50\n",
      "20/20 [==============================] - 0s 4ms/step - loss: 0.0228 - val_loss: 0.0185\n",
      "Epoch 10/50\n",
      "20/20 [==============================] - 0s 3ms/step - loss: 0.0207 - val_loss: 0.0171\n",
      "Epoch 11/50\n",
      "20/20 [==============================] - 0s 4ms/step - loss: 0.0189 - val_loss: 0.0158\n",
      "Epoch 12/50\n",
      "20/20 [==============================] - 0s 3ms/step - loss: 0.0174 - val_loss: 0.0148\n",
      "Epoch 13/50\n",
      "20/20 [==============================] - 0s 4ms/step - loss: 0.0161 - val_loss: 0.0139\n",
      "Epoch 14/50\n",
      "20/20 [==============================] - 0s 3ms/step - loss: 0.0151 - val_loss: 0.0132\n",
      "Epoch 15/50\n",
      "20/20 [==============================] - 0s 4ms/step - loss: 0.0143 - val_loss: 0.0125\n",
      "Epoch 16/50\n",
      "20/20 [==============================] - 0s 3ms/step - loss: 0.0135 - val_loss: 0.0118\n",
      "Epoch 17/50\n",
      "20/20 [==============================] - 0s 3ms/step - loss: 0.0129 - val_loss: 0.0112\n",
      "Epoch 18/50\n",
      "20/20 [==============================] - 0s 3ms/step - loss: 0.0123 - val_loss: 0.0106\n",
      "Epoch 19/50\n",
      "20/20 [==============================] - 0s 3ms/step - loss: 0.0118 - val_loss: 0.0100\n",
      "Epoch 20/50\n",
      "20/20 [==============================] - 0s 3ms/step - loss: 0.0114 - val_loss: 0.0095\n",
      "Epoch 21/50\n",
      "20/20 [==============================] - 0s 4ms/step - loss: 0.0110 - val_loss: 0.0090\n",
      "Epoch 22/50\n",
      "20/20 [==============================] - 0s 4ms/step - loss: 0.0106 - val_loss: 0.0085\n",
      "Epoch 23/50\n",
      "20/20 [==============================] - 0s 4ms/step - loss: 0.0103 - val_loss: 0.0081\n",
      "Epoch 24/50\n",
      "20/20 [==============================] - 0s 3ms/step - loss: 0.0100 - val_loss: 0.0078\n",
      "Epoch 25/50\n",
      "20/20 [==============================] - 0s 3ms/step - loss: 0.0097 - val_loss: 0.0074\n",
      "Epoch 26/50\n",
      "20/20 [==============================] - 0s 3ms/step - loss: 0.0095 - val_loss: 0.0071\n",
      "Epoch 27/50\n",
      "20/20 [==============================] - 0s 3ms/step - loss: 0.0093 - val_loss: 0.0069\n",
      "Epoch 28/50\n",
      "20/20 [==============================] - 0s 3ms/step - loss: 0.0091 - val_loss: 0.0066\n",
      "Epoch 29/50\n",
      "20/20 [==============================] - 0s 3ms/step - loss: 0.0089 - val_loss: 0.0064\n",
      "Epoch 30/50\n",
      "20/20 [==============================] - 0s 3ms/step - loss: 0.0087 - val_loss: 0.0062\n",
      "Epoch 31/50\n",
      "20/20 [==============================] - 0s 3ms/step - loss: 0.0086 - val_loss: 0.0060\n",
      "Epoch 32/50\n",
      "20/20 [==============================] - 0s 3ms/step - loss: 0.0085 - val_loss: 0.0058\n",
      "Epoch 33/50\n",
      "20/20 [==============================] - 0s 3ms/step - loss: 0.0083 - val_loss: 0.0056\n",
      "Epoch 34/50\n",
      "20/20 [==============================] - 0s 4ms/step - loss: 0.0082 - val_loss: 0.0055\n",
      "Epoch 35/50\n",
      "20/20 [==============================] - 0s 3ms/step - loss: 0.0081 - val_loss: 0.0054\n",
      "Epoch 36/50\n",
      "20/20 [==============================] - 0s 4ms/step - loss: 0.0080 - val_loss: 0.0053\n",
      "Epoch 37/50\n",
      "20/20 [==============================] - 0s 5ms/step - loss: 0.0079 - val_loss: 0.0051\n",
      "Epoch 38/50\n",
      "20/20 [==============================] - 0s 4ms/step - loss: 0.0079 - val_loss: 0.0050\n",
      "Epoch 39/50\n",
      "20/20 [==============================] - 0s 4ms/step - loss: 0.0078 - val_loss: 0.0050\n",
      "Epoch 40/50\n",
      "20/20 [==============================] - 0s 3ms/step - loss: 0.0077 - val_loss: 0.0049\n",
      "Epoch 41/50\n",
      "20/20 [==============================] - 0s 3ms/step - loss: 0.0077 - val_loss: 0.0048\n",
      "Epoch 42/50\n",
      "20/20 [==============================] - 0s 3ms/step - loss: 0.0076 - val_loss: 0.0047\n",
      "Epoch 43/50\n",
      "20/20 [==============================] - 0s 3ms/step - loss: 0.0075 - val_loss: 0.0047\n",
      "Epoch 44/50\n",
      "20/20 [==============================] - 0s 3ms/step - loss: 0.0075 - val_loss: 0.0046\n",
      "Epoch 45/50\n",
      "20/20 [==============================] - 0s 3ms/step - loss: 0.0074 - val_loss: 0.0045\n",
      "Epoch 46/50\n",
      "20/20 [==============================] - 0s 4ms/step - loss: 0.0074 - val_loss: 0.0045\n",
      "Epoch 47/50\n",
      "20/20 [==============================] - 0s 3ms/step - loss: 0.0073 - val_loss: 0.0044\n",
      "Epoch 48/50\n",
      "20/20 [==============================] - 0s 4ms/step - loss: 0.0073 - val_loss: 0.0044\n",
      "Epoch 49/50\n",
      "20/20 [==============================] - 0s 3ms/step - loss: 0.0073 - val_loss: 0.0043\n",
      "Epoch 50/50\n",
      "20/20 [==============================] - 0s 3ms/step - loss: 0.0072 - val_loss: 0.0043\n"
     ]
    }
   ],
   "source": [
    "# Fit the LSTM model\n",
    "history = model.fit(X_train_tf, y_train_tf, epochs=50, batch_size=72, validation_split=0.1, verbose=1, shuffle=False)\n"
   ]
  },
  {
   "cell_type": "code",
   "execution_count": 16,
   "id": "efceb8aa-0eab-44b1-a405-b11be82f94f5",
   "metadata": {
    "tags": []
   },
   "outputs": [
    {
     "name": "stdout",
     "output_type": "stream",
     "text": [
      "32/32 [==============================] - 0s 895us/step - loss: 0.0057\n",
      "Test Loss: 0.00569069804623723\n"
     ]
    }
   ],
   "source": [
    "# Evaluate the model on test data\n",
    "X_test_tf = tf.convert_to_tensor(X_test)\n",
    "y_test_tf = tf.convert_to_tensor(y_test)\n",
    "\n",
    "test_loss = model.evaluate(X_test_tf, y_test_tf)\n",
    "\n",
    "print('Test Loss:', test_loss)"
   ]
  },
  {
   "cell_type": "code",
   "execution_count": 17,
   "id": "2614ef86-78da-4c6f-919c-7d20549ef24a",
   "metadata": {
    "tags": []
   },
   "outputs": [
    {
     "name": "stdout",
     "output_type": "stream",
     "text": [
      "32/32 [==============================] - 0s 1ms/step\n"
     ]
    },
    {
     "name": "stderr",
     "output_type": "stream",
     "text": [
      "2023-04-25 08:53:48.163578: I tensorflow/core/common_runtime/executor.cc:1197] [/device:CPU:0] (DEBUG INFO) Executor start aborting (this does not indicate an error and you can ignore this message): INVALID_ARGUMENT: You must feed a value for placeholder tensor 'gradients/split_2_grad/concat/split_2/split_dim' with dtype int32\n",
      "\t [[{{node gradients/split_2_grad/concat/split_2/split_dim}}]]\n",
      "2023-04-25 08:53:48.164674: I tensorflow/core/common_runtime/executor.cc:1197] [/device:CPU:0] (DEBUG INFO) Executor start aborting (this does not indicate an error and you can ignore this message): INVALID_ARGUMENT: You must feed a value for placeholder tensor 'gradients/split_grad/concat/split/split_dim' with dtype int32\n",
      "\t [[{{node gradients/split_grad/concat/split/split_dim}}]]\n",
      "2023-04-25 08:53:48.165513: I tensorflow/core/common_runtime/executor.cc:1197] [/device:CPU:0] (DEBUG INFO) Executor start aborting (this does not indicate an error and you can ignore this message): INVALID_ARGUMENT: You must feed a value for placeholder tensor 'gradients/split_1_grad/concat/split_1/split_dim' with dtype int32\n",
      "\t [[{{node gradients/split_1_grad/concat/split_1/split_dim}}]]\n"
     ]
    }
   ],
   "source": [
    "y_pred = model.predict(X_test_tf)\n",
    "#y_pred_denormalized = scaler.inverse_transform(y_pred)\n"
   ]
  },
  {
   "cell_type": "code",
   "execution_count": 18,
   "id": "5577409a-c77e-4a89-af05-d52805967e6a",
   "metadata": {
    "tags": []
   },
   "outputs": [],
   "source": [
    "import matplotlib.pyplot as plt"
   ]
  },
  {
   "cell_type": "code",
   "execution_count": 21,
   "id": "b2bbf355-6a64-4fcd-9ed0-d3a3d3274758",
   "metadata": {
    "tags": []
   },
   "outputs": [
    {
     "data": {
      "text/plain": [
       "Text(0, 0.5, 'Normed traffic volume')"
      ]
     },
     "execution_count": 21,
     "metadata": {},
     "output_type": "execute_result"
    },
    {
     "data": {
      "image/png": "[encoded data removed]",
      "text/plain": [
       "<Figure size 640x480 with 1 Axes>"
      ]
     },
     "metadata": {},
     "output_type": "display_data"
    }
   ],
   "source": [
    "plt.plot(y_pred,label=\"Forecast\")\n",
    "plt.plot(y_test,label = \"Actual\")\n",
    "plt.legend()\n",
    "plt.xlabel(\"Time\")\n",
    "plt.ylabel(\"Normed traffic volume\")"
   ]
  },
  {
   "cell_type": "code",
   "execution_count": null,
   "id": "b6847e43-6284-4bb6-aafa-1f7e2d6aad9f",
   "metadata": {},
   "outputs": [],
   "source": []
  }
 ],
 "metadata": {
  "kernelspec": {
   "display_name": "Python 3 (ipykernel)",
   "language": "python",
   "name": "python3"
  },
  "language_info": {
   "codemirror_mode": {
    "name": "ipython",
    "version": 3
   },
   "file_extension": ".py",
   "mimetype": "text/x-python",
   "name": "python",
   "nbconvert_exporter": "python",
   "pygments_lexer": "ipython3",
   "version": "3.10.10"
  }
 },
 "nbformat": 4,
 "nbformat_minor": 5
}
